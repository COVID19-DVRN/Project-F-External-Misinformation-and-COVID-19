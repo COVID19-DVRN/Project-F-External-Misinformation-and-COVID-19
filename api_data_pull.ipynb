{
 "cells": [
  {
   "cell_type": "markdown",
   "metadata": {},
   "source": [
    "# Libraries and Packages"
   ]
  },
  {
   "cell_type": "code",
   "execution_count": 2,
   "metadata": {
    "ExecuteTime": {
     "end_time": "2021-03-25T13:40:54.939130Z",
     "start_time": "2021-03-25T13:40:53.495703Z"
    }
   },
   "outputs": [],
   "source": [
    "import pandas as pd\n",
    "import time\n",
    "\n",
    "from googleapiclient.discovery import build #May need to run in console: sudo pip install --upgrade google-api-python-client\n",
    "from pytrends.request import TrendReq"
   ]
  },
  {
   "cell_type": "markdown",
   "metadata": {
    "heading_collapsed": true
   },
   "source": [
    "# Bring in External Data"
   ]
  },
  {
   "cell_type": "code",
   "execution_count": 3,
   "metadata": {
    "ExecuteTime": {
     "end_time": "2021-03-25T13:40:57.791667Z",
     "start_time": "2021-03-25T13:40:57.753510Z"
    },
    "hidden": true
   },
   "outputs": [
    {
     "data": {
      "text/html": [
       "<div>\n",
       "<style scoped>\n",
       "    .dataframe tbody tr th:only-of-type {\n",
       "        vertical-align: middle;\n",
       "    }\n",
       "\n",
       "    .dataframe tbody tr th {\n",
       "        vertical-align: top;\n",
       "    }\n",
       "\n",
       "    .dataframe thead th {\n",
       "        text-align: right;\n",
       "    }\n",
       "</style>\n",
       "<table border=\"1\" class=\"dataframe\">\n",
       "  <thead>\n",
       "    <tr style=\"text-align: right;\">\n",
       "      <th></th>\n",
       "      <th>Suggested Query</th>\n",
       "      <th>Hypothesis for Query</th>\n",
       "      <th>Added By</th>\n",
       "      <th>Notes</th>\n",
       "      <th>URL</th>\n",
       "      <th>Unnamed: 5</th>\n",
       "      <th>Category of Query</th>\n",
       "    </tr>\n",
       "  </thead>\n",
       "  <tbody>\n",
       "    <tr>\n",
       "      <th>0</th>\n",
       "      <td>\"where to get covid vaccine\"</td>\n",
       "      <td>Areas with less COVID-19-specific vaccine hesi...</td>\n",
       "      <td>Maia</td>\n",
       "      <td>NaN</td>\n",
       "      <td>https://trends.google.com/trends/explore?geo=U...</td>\n",
       "      <td>NaN</td>\n",
       "      <td>General</td>\n",
       "    </tr>\n",
       "    <tr>\n",
       "      <th>1</th>\n",
       "      <td>\"vaccine exemption\"</td>\n",
       "      <td>Areas with more vaccine hesitancy in general w...</td>\n",
       "      <td>Maia</td>\n",
       "      <td>NaN</td>\n",
       "      <td>https://trends.google.com/trends/explore?date=...</td>\n",
       "      <td>NaN</td>\n",
       "      <td>Avoidance</td>\n",
       "    </tr>\n",
       "    <tr>\n",
       "      <th>2</th>\n",
       "      <td>\"covid vaccine mandatory\"</td>\n",
       "      <td>Areas with more vaccine hesitancy in general w...</td>\n",
       "      <td>Shagun</td>\n",
       "      <td>Given Maia's previous query I was curious!  Th...</td>\n",
       "      <td>https://trends.google.com/trends/explore?geo=U...</td>\n",
       "      <td>NaN</td>\n",
       "      <td>Avoidance</td>\n",
       "    </tr>\n",
       "    <tr>\n",
       "      <th>3</th>\n",
       "      <td>\"vaccine infertility\"</td>\n",
       "      <td>A vaccine myth suggesting that the pfizer vacc...</td>\n",
       "      <td>Shagun</td>\n",
       "      <td>https://www.nytimes.com/2020/12/10/technology/...</td>\n",
       "      <td>https://trends.google.com/trends/explore?date=...</td>\n",
       "      <td>NaN</td>\n",
       "      <td>Myths/Conspiracy Theories</td>\n",
       "    </tr>\n",
       "    <tr>\n",
       "      <th>4</th>\n",
       "      <td>\"covid vaccine safe\"</td>\n",
       "      <td>Higher levels may denote more concern or initi...</td>\n",
       "      <td>Catherine</td>\n",
       "      <td>NaN</td>\n",
       "      <td>https://trends.google.com/trends/explore?geo=U...</td>\n",
       "      <td>NaN</td>\n",
       "      <td>General</td>\n",
       "    </tr>\n",
       "  </tbody>\n",
       "</table>\n",
       "</div>"
      ],
      "text/plain": [
       "                Suggested Query  \\\n",
       "0  \"where to get covid vaccine\"   \n",
       "1           \"vaccine exemption\"   \n",
       "2     \"covid vaccine mandatory\"   \n",
       "3         \"vaccine infertility\"   \n",
       "4          \"covid vaccine safe\"   \n",
       "\n",
       "                                Hypothesis for Query   Added By  \\\n",
       "0  Areas with less COVID-19-specific vaccine hesi...       Maia   \n",
       "1  Areas with more vaccine hesitancy in general w...       Maia   \n",
       "2  Areas with more vaccine hesitancy in general w...     Shagun   \n",
       "3  A vaccine myth suggesting that the pfizer vacc...     Shagun   \n",
       "4  Higher levels may denote more concern or initi...  Catherine   \n",
       "\n",
       "                                               Notes  \\\n",
       "0                                                NaN   \n",
       "1                                                NaN   \n",
       "2  Given Maia's previous query I was curious!  Th...   \n",
       "3  https://www.nytimes.com/2020/12/10/technology/...   \n",
       "4                                                NaN   \n",
       "\n",
       "                                                 URL  Unnamed: 5  \\\n",
       "0  https://trends.google.com/trends/explore?geo=U...         NaN   \n",
       "1  https://trends.google.com/trends/explore?date=...         NaN   \n",
       "2  https://trends.google.com/trends/explore?geo=U...         NaN   \n",
       "3  https://trends.google.com/trends/explore?date=...         NaN   \n",
       "4  https://trends.google.com/trends/explore?geo=U...         NaN   \n",
       "\n",
       "           Category of Query  \n",
       "0                    General  \n",
       "1                  Avoidance  \n",
       "2                  Avoidance  \n",
       "3  Myths/Conspiracy Theories  \n",
       "4                    General  "
      ]
     },
     "execution_count": 3,
     "metadata": {},
     "output_type": "execute_result"
    }
   ],
   "source": [
    "# Search Terms list:\n",
    "search_terms = pd.read_csv(\"/Users/cpollack/Documents/GST & Wiki Brainstorm - GST.csv\")\n",
    "search_terms.head()"
   ]
  },
  {
   "cell_type": "markdown",
   "metadata": {},
   "source": [
    "# Set-Up"
   ]
  },
  {
   "cell_type": "markdown",
   "metadata": {},
   "source": [
    "## API"
   ]
  },
  {
   "cell_type": "markdown",
   "metadata": {},
   "source": [
    "Note: This is adapted from the Google Trends getting started guide"
   ]
  },
  {
   "cell_type": "code",
   "execution_count": 4,
   "metadata": {
    "ExecuteTime": {
     "end_time": "2021-03-25T13:41:04.314697Z",
     "start_time": "2021-03-25T13:41:04.311710Z"
    }
   },
   "outputs": [],
   "source": [
    "api_key = \"HIDDEN\"\n",
    "server = 'https://trends.googleapis.com'\n",
    "api_version = 'v1beta'\n",
    "discovery_url_suffix = '/$discovery/rest?version=' + api_version\n",
    "discovery_url = server + discovery_url_suffix\n",
    "\n",
    "max_queries = 30 #API only allows 30 queries in one request"
   ]
  },
  {
   "cell_type": "markdown",
   "metadata": {
    "heading_collapsed": true
   },
   "source": [
    "## PyTrends"
   ]
  },
  {
   "cell_type": "code",
   "execution_count": 5,
   "metadata": {
    "ExecuteTime": {
     "end_time": "2021-03-25T13:41:08.693160Z",
     "start_time": "2021-03-25T13:41:08.237410Z"
    },
    "hidden": true
   },
   "outputs": [],
   "source": [
    "pytrends = TrendReq(hl = 'en-US',\n",
    "                    tz = 300)\n",
    "\n",
    "max_pytrends = 5"
   ]
  },
  {
   "cell_type": "markdown",
   "metadata": {},
   "source": [
    "# Functions"
   ]
  },
  {
   "cell_type": "markdown",
   "metadata": {},
   "source": [
    "## Related Queries"
   ]
  },
  {
   "cell_type": "code",
   "execution_count": 7,
   "metadata": {
    "ExecuteTime": {
     "end_time": "2021-03-25T13:41:39.410550Z",
     "start_time": "2021-03-25T13:41:39.400443Z"
    }
   },
   "outputs": [],
   "source": [
    "def relatedQueries(keywords_list, start_date, end_date):\n",
    "    \"\"\"\n",
    "    Identify related search terms that could be valuable (single snowball sample)\n",
    "    Arguments: \n",
    "        param keywords (list of str): List of keywords of interest\n",
    "        param start_date (str): Start date for data collection (in form YYYY-MM-DD)\n",
    "        param end_date (str): End date for data collection (in form YYYY-MM-DD)\n",
    "        \n",
    "    Returns:\n",
    "        List of additional keywords to search on\n",
    "    \"\"\"\n",
    "    dat = {}\n",
    "    batch_intervals = range(0, len(keywords_list), max_pytrends) #Can only take 5 at a time\n",
    "    \n",
    "    for batch_start in batch_intervals:\n",
    "        batch_end = min(batch_start + max_pytrends, len(keywords_list))\n",
    "        query_batch = keywords_list[batch_start:batch_end]\n",
    "\n",
    "        pytrends.build_payload(kw_list = query_batch,\n",
    "                               timeframe = f'{start_date} {end_date}',\n",
    "                               geo = 'US')\n",
    "        \n",
    "        dat.update(pytrends.related_queries())\n",
    "    return dat"
   ]
  },
  {
   "cell_type": "markdown",
   "metadata": {},
   "source": [
    "## Convert Related Queries to Dataframe"
   ]
  },
  {
   "cell_type": "code",
   "execution_count": 42,
   "metadata": {
    "ExecuteTime": {
     "end_time": "2021-03-25T13:59:26.876359Z",
     "start_time": "2021-03-25T13:59:26.872575Z"
    }
   },
   "outputs": [],
   "source": [
    "def queryToDataframeHelper(query_dataframe, key, top_rising = \"top\"):\n",
    "    \"\"\"\n",
    "    Helper functio for queryToDataframe that generates a dataframe from the top or rising results from query_dictionary\n",
    "    \n",
    "    Arguments:\n",
    "        param query_dataframe (Pandas DataFrame): The top 24 top-or-rising related queries to the initial search term\n",
    "        param key (str): The initial query\n",
    "        param top_rising (str): Whether the query is from the \"top\" list or \"rising\" list. Choose from top (default) or rising\n",
    "        \n",
    "    Returns:\n",
    "        A formatted dataframe for the queryToDataFrame function \n",
    "    \"\"\"\n",
    "    query_dataframe[\"top_rising\"] = top_rising\n",
    "    query_dataframe[\"initial_query\"] = key\n",
    "    query_dataframe = query_dataframe.rename(columns={'query': 'new_query'})\n",
    "        \n",
    "    return query_dataframe"
   ]
  },
  {
   "cell_type": "code",
   "execution_count": 50,
   "metadata": {
    "ExecuteTime": {
     "end_time": "2021-03-25T14:07:15.342028Z",
     "start_time": "2021-03-25T14:07:15.335486Z"
    }
   },
   "outputs": [],
   "source": [
    "def queryToDataframe(query_dictionary):\n",
    "    \"\"\"\n",
    "    Turn query dictionary into a dataframe\n",
    "    Arguments:\n",
    "        param dat (dict): A dictionary of related queries as returned by relatedQueries\n",
    "\n",
    "    Returns:\n",
    "        A formatted database of all queries\n",
    "        \n",
    "    Raises:\n",
    "        TypeError if no top or rising queries\n",
    "    \"\"\"\n",
    "    column_names = [\"new_query\", \"top_rising\", \"value\", \"initial_query\"]\n",
    "    dat = pd.DataFrame(columns = column_names)\n",
    "    \n",
    "    for key in query_dictionary:\n",
    "        try:\n",
    "            queryToDataframeHelper(query_dictionary[key][\"top\"], key, \"top\")\n",
    "        except TypeError:\n",
    "            print(f\"No top related queries for {key}.\")\n",
    "        else:\n",
    "             top_queries = queryToDataframeHelper(query_dictionary[key][\"top\"], key, \"top\")\n",
    "                \n",
    "        try:\n",
    "            queryToDataframeHelper(query_dictionary[key][\"rising\"], key, \"rising\")\n",
    "        except TypeError:\n",
    "            print(f\"No rising related queries for {key}.\")\n",
    "        else:\n",
    "             rising_queries = queryToDataframeHelper(query_dictionary[key][\"rising\"], key, \"rising\")\n",
    "        \n",
    "        if top_queries is not None:\n",
    "            dat = dat.append([top_queries], ignore_index = True)\n",
    "            \n",
    "        if related_queries is not None:\n",
    "            dat = dat.append([top_queries], ignore_index = True)\n",
    "            \n",
    "    return dat"
   ]
  },
  {
   "cell_type": "markdown",
   "metadata": {
    "heading_collapsed": true
   },
   "source": [
    "## Google API "
   ]
  },
  {
   "cell_type": "markdown",
   "metadata": {
    "hidden": true
   },
   "source": [
    "Note: This is adapted from the Google Trends getting started guide"
   ]
  },
  {
   "cell_type": "code",
   "execution_count": 37,
   "metadata": {
    "ExecuteTime": {
     "end_time": "2021-03-25T03:00:39.838964Z",
     "start_time": "2021-03-25T03:00:39.828585Z"
    },
    "hidden": true
   },
   "outputs": [],
   "source": [
    "def getQueryVolumes(queries, start_date, end_date, geo='US', geo_level = 'county', frequency = 'week'):\n",
    "    \"\"\"\n",
    "    Extract query volumes from Trends API\n",
    "    Arguments:\n",
    "        param queries (list of str): A list of all queries to use\n",
    "        param start_date (str): Start date of timelines (in form YYYY-MM-DD)\n",
    "        param end_date (str): End date of timelines (in form YYYY-MM-DD)\n",
    "        param geo (str): The string representation of the geography of interest. This can be a country (US, default), region (US-NY) or DMA (501)\n",
    "        param geo_level (str): The granularity of geography. Choose from country (default), region, or dma\n",
    "        param frequency (str): The temporal granularity. Choose from day, week (default), month, year\n",
    "\n",
    "    Returns:\n",
    "        List of lists (one row per date)\n",
    "\n",
    "    Raises:\n",
    "        ValueError if:\n",
    "            - api key not defined\n",
    "            - geo_level is undefined\n",
    "\"\"\"\n",
    "    if not api_key:\n",
    "        raise ValueError(\"api_key not set.\")\n",
    "    \n",
    "    service = build('trends', \n",
    "                    api_version, \n",
    "                    developerKey = api_key,\n",
    "                    discoveryServiceUrl = discovery_url,\n",
    "                    static_discovery=False)\n",
    "    \n",
    "    dat = {}\n",
    "    \n",
    "    # Accounting for max batch range of 30\n",
    "    batch_intervals = range(0, len(queries), max_queries) \n",
    "    \n",
    "    for batch_start in batch_intervals:\n",
    "        batch_end = min(batch_start + max_queries, len(queries))\n",
    "        query_batch = queries[batch_start:batch_end]\n",
    "        \n",
    "        # Make API query:\n",
    "        if geo_level == \"country\":\n",
    "            req = service.getTimelinesForHealth(terms = query_batch,\n",
    "                                                time_startDate = start_date,\n",
    "                                                time_endDate = end_date,\n",
    "                                                timelineResolution = frequency,\n",
    "                                                geoRestriction_country = geo)\n",
    "        elif geo_level == \"dma\":\n",
    "              req = service.getTimelinesForHealth(terms=query_batch,\n",
    "                                                  time_startDate=start_date,\n",
    "                                                  time_endDate=end_date,\n",
    "                                                  timelineResolution=frequency,\n",
    "                                                  geoRestriction_dma=geo)\n",
    "        elif geo_level == 'region':\n",
    "      # Region format is ISO-3166-2 (4-letters): en.wikipedia.org/wiki/ISO_3166-2:US)\n",
    "              req = service.getTimelinesForHealth(terms=query_batch,\n",
    "                                                  time_startDate=start_date,\n",
    "                                                  time_endDate=end_date,\n",
    "                                                  timelineResolution=frequency,\n",
    "                                                  geoRestriction_region=geo)\n",
    "        else:\n",
    "            raise ValueError(\"geo_type must be one of 'country', 'region', or 'dma'\")\n",
    "        \n",
    "        res = req.execute()\n",
    "        \n",
    "        time.sleep(1) #To avoid rate limit\n",
    "        \n",
    "        res_dict = {(line[u'term'], point[u'date']):\n",
    "                   point[u'value']\n",
    "                   for line in res[u'lines']\n",
    "                   for point in line[u'points']}\n",
    "        \n",
    "        dat.update(res_dict)\n",
    "        \n",
    "        res = [['date'] + queries]\n",
    "        for date in sorted(list(set([x[1] for x in dat]))):\n",
    "            vals = [dat.get((term, date), 0) for term in queries]\n",
    "            res.append([date] + vals)\n",
    "        \n",
    "        return res\n",
    "   "
   ]
  },
  {
   "cell_type": "markdown",
   "metadata": {},
   "source": [
    "# Data Collection"
   ]
  },
  {
   "cell_type": "markdown",
   "metadata": {},
   "source": [
    "## Snowball sampling for search queries"
   ]
  },
  {
   "cell_type": "code",
   "execution_count": 53,
   "metadata": {
    "ExecuteTime": {
     "end_time": "2021-03-25T14:10:00.364716Z",
     "start_time": "2021-03-25T14:09:45.424409Z"
    }
   },
   "outputs": [
    {
     "name": "stdout",
     "output_type": "stream",
     "text": [
      "No top related queries for covid vaccine autism.\n",
      "No rising related queries for covid vaccine autism.\n",
      "No top related queries for whats in the covid vaccine.\n",
      "No rising related queries for whats in the covid vaccine.\n",
      "No top related queries for anti-vax  and derivatives.\n",
      "No rising related queries for anti-vax  and derivatives.\n",
      "No top related queries for The Vaccine Book  Making the Right Decision for Your Child.\n",
      "No rising related queries for The Vaccine Book  Making the Right Decision for Your Child.\n",
      "No top related queries for allergic reaction to vaccine/vaccine allergic reaction.\n",
      "No rising related queries for allergic reaction to vaccine/vaccine allergic reaction.\n",
      "No top related queries for vaccine 5g.\n",
      "No rising related queries for vaccine 5g.\n",
      "No top related queries for vaccine and autoimmune conditions.\n",
      "No rising related queries for vaccine and autoimmune conditions.\n"
     ]
    }
   ],
   "source": [
    "query_list = list(search_terms['Suggested Query'])\n",
    "query_list = [x.replace(\"\\\"\", \"\") for x in query_list]\n",
    "related_queries = relatedQueries(query_list, '2020-01-01', '2021-03-24')\n",
    "related_queries_df = queryToDataframe(related_queries)"
   ]
  },
  {
   "cell_type": "markdown",
   "metadata": {},
   "source": [
    "# Exports"
   ]
  },
  {
   "cell_type": "code",
   "execution_count": 54,
   "metadata": {
    "ExecuteTime": {
     "end_time": "2021-03-25T14:12:10.197879Z",
     "start_time": "2021-03-25T14:12:10.134315Z"
    }
   },
   "outputs": [],
   "source": [
    "related_queries_df.to_csv('210324_top_rising_snowball_related_queries.csv')"
   ]
  },
  {
   "cell_type": "code",
   "execution_count": null,
   "metadata": {},
   "outputs": [],
   "source": []
  }
 ],
 "metadata": {
  "kernelspec": {
   "display_name": "Python 3",
   "language": "python",
   "name": "python3"
  },
  "language_info": {
   "codemirror_mode": {
    "name": "ipython",
    "version": 3
   },
   "file_extension": ".py",
   "mimetype": "text/x-python",
   "name": "python",
   "nbconvert_exporter": "python",
   "pygments_lexer": "ipython3",
   "version": "3.7.4"
  },
  "toc": {
   "base_numbering": 1,
   "nav_menu": {},
   "number_sections": true,
   "sideBar": true,
   "skip_h1_title": false,
   "title_cell": "Table of Contents",
   "title_sidebar": "Contents",
   "toc_cell": false,
   "toc_position": {},
   "toc_section_display": true,
   "toc_window_display": false
  },
  "varInspector": {
   "cols": {
    "lenName": 16,
    "lenType": 16,
    "lenVar": 40
   },
   "kernels_config": {
    "python": {
     "delete_cmd_postfix": "",
     "delete_cmd_prefix": "del ",
     "library": "var_list.py",
     "varRefreshCmd": "print(var_dic_list())"
    },
    "r": {
     "delete_cmd_postfix": ") ",
     "delete_cmd_prefix": "rm(",
     "library": "var_list.r",
     "varRefreshCmd": "cat(var_dic_list()) "
    }
   },
   "types_to_exclude": [
    "module",
    "function",
    "builtin_function_or_method",
    "instance",
    "_Feature"
   ],
   "window_display": false
  }
 },
 "nbformat": 4,
 "nbformat_minor": 4
}
