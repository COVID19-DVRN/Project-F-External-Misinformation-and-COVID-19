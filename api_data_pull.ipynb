{
 "cells": [
  {
   "cell_type": "markdown",
   "metadata": {
    "heading_collapsed": true
   },
   "source": [
    "# Libraries and Packages"
   ]
  },
  {
   "cell_type": "code",
   "execution_count": 1,
   "metadata": {
    "ExecuteTime": {
     "end_time": "2021-04-11T17:22:37.537643Z",
     "start_time": "2021-04-11T17:22:23.661340Z"
    },
    "hidden": true,
    "init_cell": true
   },
   "outputs": [],
   "source": [
    "import pandas as pd\n",
    "import time\n",
    "\n",
    "from googleapiclient.discovery import build #May need to run in console: sudo pip install --upgrade google-api-python-client\n",
    "from pytrends.request import TrendReq"
   ]
  },
  {
   "cell_type": "markdown",
   "metadata": {},
   "source": [
    "# Bring in External Data"
   ]
  },
  {
   "cell_type": "markdown",
   "metadata": {
    "heading_collapsed": true
   },
   "source": [
    "## Initial Search Term List"
   ]
  },
  {
   "cell_type": "code",
   "execution_count": 3,
   "metadata": {
    "ExecuteTime": {
     "end_time": "2021-03-25T13:40:57.791667Z",
     "start_time": "2021-03-25T13:40:57.753510Z"
    },
    "hidden": true
   },
   "outputs": [
    {
     "data": {
      "text/html": [
       "<div>\n",
       "<style scoped>\n",
       "    .dataframe tbody tr th:only-of-type {\n",
       "        vertical-align: middle;\n",
       "    }\n",
       "\n",
       "    .dataframe tbody tr th {\n",
       "        vertical-align: top;\n",
       "    }\n",
       "\n",
       "    .dataframe thead th {\n",
       "        text-align: right;\n",
       "    }\n",
       "</style>\n",
       "<table border=\"1\" class=\"dataframe\">\n",
       "  <thead>\n",
       "    <tr style=\"text-align: right;\">\n",
       "      <th></th>\n",
       "      <th>Suggested Query</th>\n",
       "      <th>Hypothesis for Query</th>\n",
       "      <th>Added By</th>\n",
       "      <th>Notes</th>\n",
       "      <th>URL</th>\n",
       "      <th>Unnamed: 5</th>\n",
       "      <th>Category of Query</th>\n",
       "    </tr>\n",
       "  </thead>\n",
       "  <tbody>\n",
       "    <tr>\n",
       "      <th>0</th>\n",
       "      <td>\"where to get covid vaccine\"</td>\n",
       "      <td>Areas with less COVID-19-specific vaccine hesi...</td>\n",
       "      <td>Maia</td>\n",
       "      <td>NaN</td>\n",
       "      <td>https://trends.google.com/trends/explore?geo=U...</td>\n",
       "      <td>NaN</td>\n",
       "      <td>General</td>\n",
       "    </tr>\n",
       "    <tr>\n",
       "      <th>1</th>\n",
       "      <td>\"vaccine exemption\"</td>\n",
       "      <td>Areas with more vaccine hesitancy in general w...</td>\n",
       "      <td>Maia</td>\n",
       "      <td>NaN</td>\n",
       "      <td>https://trends.google.com/trends/explore?date=...</td>\n",
       "      <td>NaN</td>\n",
       "      <td>Avoidance</td>\n",
       "    </tr>\n",
       "    <tr>\n",
       "      <th>2</th>\n",
       "      <td>\"covid vaccine mandatory\"</td>\n",
       "      <td>Areas with more vaccine hesitancy in general w...</td>\n",
       "      <td>Shagun</td>\n",
       "      <td>Given Maia's previous query I was curious!  Th...</td>\n",
       "      <td>https://trends.google.com/trends/explore?geo=U...</td>\n",
       "      <td>NaN</td>\n",
       "      <td>Avoidance</td>\n",
       "    </tr>\n",
       "    <tr>\n",
       "      <th>3</th>\n",
       "      <td>\"vaccine infertility\"</td>\n",
       "      <td>A vaccine myth suggesting that the pfizer vacc...</td>\n",
       "      <td>Shagun</td>\n",
       "      <td>https://www.nytimes.com/2020/12/10/technology/...</td>\n",
       "      <td>https://trends.google.com/trends/explore?date=...</td>\n",
       "      <td>NaN</td>\n",
       "      <td>Myths/Conspiracy Theories</td>\n",
       "    </tr>\n",
       "    <tr>\n",
       "      <th>4</th>\n",
       "      <td>\"covid vaccine safe\"</td>\n",
       "      <td>Higher levels may denote more concern or initi...</td>\n",
       "      <td>Catherine</td>\n",
       "      <td>NaN</td>\n",
       "      <td>https://trends.google.com/trends/explore?geo=U...</td>\n",
       "      <td>NaN</td>\n",
       "      <td>General</td>\n",
       "    </tr>\n",
       "  </tbody>\n",
       "</table>\n",
       "</div>"
      ],
      "text/plain": [
       "                Suggested Query  \\\n",
       "0  \"where to get covid vaccine\"   \n",
       "1           \"vaccine exemption\"   \n",
       "2     \"covid vaccine mandatory\"   \n",
       "3         \"vaccine infertility\"   \n",
       "4          \"covid vaccine safe\"   \n",
       "\n",
       "                                Hypothesis for Query   Added By  \\\n",
       "0  Areas with less COVID-19-specific vaccine hesi...       Maia   \n",
       "1  Areas with more vaccine hesitancy in general w...       Maia   \n",
       "2  Areas with more vaccine hesitancy in general w...     Shagun   \n",
       "3  A vaccine myth suggesting that the pfizer vacc...     Shagun   \n",
       "4  Higher levels may denote more concern or initi...  Catherine   \n",
       "\n",
       "                                               Notes  \\\n",
       "0                                                NaN   \n",
       "1                                                NaN   \n",
       "2  Given Maia's previous query I was curious!  Th...   \n",
       "3  https://www.nytimes.com/2020/12/10/technology/...   \n",
       "4                                                NaN   \n",
       "\n",
       "                                                 URL  Unnamed: 5  \\\n",
       "0  https://trends.google.com/trends/explore?geo=U...         NaN   \n",
       "1  https://trends.google.com/trends/explore?date=...         NaN   \n",
       "2  https://trends.google.com/trends/explore?geo=U...         NaN   \n",
       "3  https://trends.google.com/trends/explore?date=...         NaN   \n",
       "4  https://trends.google.com/trends/explore?geo=U...         NaN   \n",
       "\n",
       "           Category of Query  \n",
       "0                    General  \n",
       "1                  Avoidance  \n",
       "2                  Avoidance  \n",
       "3  Myths/Conspiracy Theories  \n",
       "4                    General  "
      ]
     },
     "execution_count": 3,
     "metadata": {},
     "output_type": "execute_result"
    }
   ],
   "source": [
    "# Search Terms list:\n",
    "search_terms = pd.read_csv(\"/Users/cpollack/Documents/GST & Wiki Brainstorm - GST.csv\")\n",
    "search_terms.head()"
   ]
  },
  {
   "cell_type": "markdown",
   "metadata": {
    "heading_collapsed": true
   },
   "source": [
    "## New Queries Based on Snowball Sample"
   ]
  },
  {
   "cell_type": "code",
   "execution_count": 3,
   "metadata": {
    "ExecuteTime": {
     "end_time": "2021-04-11T17:24:31.498350Z",
     "start_time": "2021-04-11T17:24:31.392725Z"
    },
    "hidden": true
   },
   "outputs": [
    {
     "data": {
      "text/html": [
       "<div>\n",
       "<style scoped>\n",
       "    .dataframe tbody tr th:only-of-type {\n",
       "        vertical-align: middle;\n",
       "    }\n",
       "\n",
       "    .dataframe tbody tr th {\n",
       "        vertical-align: top;\n",
       "    }\n",
       "\n",
       "    .dataframe thead th {\n",
       "        text-align: right;\n",
       "    }\n",
       "</style>\n",
       "<table border=\"1\" class=\"dataframe\">\n",
       "  <thead>\n",
       "    <tr style=\"text-align: right;\">\n",
       "      <th></th>\n",
       "      <th>Unnamed: 0</th>\n",
       "      <th>new_query</th>\n",
       "      <th>top_rising</th>\n",
       "      <th>value</th>\n",
       "      <th>initial_query</th>\n",
       "    </tr>\n",
       "  </thead>\n",
       "  <tbody>\n",
       "    <tr>\n",
       "      <th>0</th>\n",
       "      <td>0</td>\n",
       "      <td>covid vaccine near me</td>\n",
       "      <td>top</td>\n",
       "      <td>100</td>\n",
       "      <td>where to get covid vaccine</td>\n",
       "    </tr>\n",
       "    <tr>\n",
       "      <th>1</th>\n",
       "      <td>1</td>\n",
       "      <td>where to get vaccine near me</td>\n",
       "      <td>top</td>\n",
       "      <td>99</td>\n",
       "      <td>where to get covid vaccine</td>\n",
       "    </tr>\n",
       "    <tr>\n",
       "      <th>2</th>\n",
       "      <td>2</td>\n",
       "      <td>where to get vaccine covid near me</td>\n",
       "      <td>top</td>\n",
       "      <td>96</td>\n",
       "      <td>where to get covid vaccine</td>\n",
       "    </tr>\n",
       "    <tr>\n",
       "      <th>3</th>\n",
       "      <td>3</td>\n",
       "      <td>where to get the covid vaccine</td>\n",
       "      <td>top</td>\n",
       "      <td>73</td>\n",
       "      <td>where to get covid vaccine</td>\n",
       "    </tr>\n",
       "    <tr>\n",
       "      <th>4</th>\n",
       "      <td>4</td>\n",
       "      <td>where can i get covid vaccine</td>\n",
       "      <td>top</td>\n",
       "      <td>37</td>\n",
       "      <td>where to get covid vaccine</td>\n",
       "    </tr>\n",
       "  </tbody>\n",
       "</table>\n",
       "</div>"
      ],
      "text/plain": [
       "   Unnamed: 0                           new_query top_rising  value  \\\n",
       "0           0               covid vaccine near me        top    100   \n",
       "1           1        where to get vaccine near me        top     99   \n",
       "2           2  where to get vaccine covid near me        top     96   \n",
       "3           3      where to get the covid vaccine        top     73   \n",
       "4           4       where can i get covid vaccine        top     37   \n",
       "\n",
       "                initial_query  \n",
       "0  where to get covid vaccine  \n",
       "1  where to get covid vaccine  \n",
       "2  where to get covid vaccine  \n",
       "3  where to get covid vaccine  \n",
       "4  where to get covid vaccine  "
      ]
     },
     "execution_count": 3,
     "metadata": {},
     "output_type": "execute_result"
    }
   ],
   "source": [
    "related_queries_df = pd.read_csv('/Users/cpollack/Project-F-External-Misinformation-and-COVID-19/210324_top_rising_snowball_related_queries.csv')\n",
    "related_queries_df.head()"
   ]
  },
  {
   "cell_type": "markdown",
   "metadata": {
    "heading_collapsed": true
   },
   "source": [
    "## DMA-to-County Crosswalk"
   ]
  },
  {
   "cell_type": "code",
   "execution_count": 37,
   "metadata": {
    "ExecuteTime": {
     "end_time": "2021-04-11T18:00:52.763217Z",
     "start_time": "2021-04-11T18:00:52.741544Z"
    },
    "hidden": true
   },
   "outputs": [
    {
     "data": {
      "text/html": [
       "<div>\n",
       "<style scoped>\n",
       "    .dataframe tbody tr th:only-of-type {\n",
       "        vertical-align: middle;\n",
       "    }\n",
       "\n",
       "    .dataframe tbody tr th {\n",
       "        vertical-align: top;\n",
       "    }\n",
       "\n",
       "    .dataframe thead th {\n",
       "        text-align: right;\n",
       "    }\n",
       "</style>\n",
       "<table border=\"1\" class=\"dataframe\">\n",
       "  <thead>\n",
       "    <tr style=\"text-align: right;\">\n",
       "      <th></th>\n",
       "      <th>DMA Code</th>\n",
       "      <th>Name</th>\n",
       "    </tr>\n",
       "  </thead>\n",
       "  <tbody>\n",
       "    <tr>\n",
       "      <th>0</th>\n",
       "      <td>500.0</td>\n",
       "      <td>Portland - Auburn</td>\n",
       "    </tr>\n",
       "    <tr>\n",
       "      <th>1</th>\n",
       "      <td>501.0</td>\n",
       "      <td>New York</td>\n",
       "    </tr>\n",
       "    <tr>\n",
       "      <th>2</th>\n",
       "      <td>502.0</td>\n",
       "      <td>Binghamton</td>\n",
       "    </tr>\n",
       "    <tr>\n",
       "      <th>3</th>\n",
       "      <td>503.0</td>\n",
       "      <td>Macon</td>\n",
       "    </tr>\n",
       "    <tr>\n",
       "      <th>4</th>\n",
       "      <td>504.0</td>\n",
       "      <td>Philadelphia</td>\n",
       "    </tr>\n",
       "  </tbody>\n",
       "</table>\n",
       "</div>"
      ],
      "text/plain": [
       "   DMA Code               Name\n",
       "0     500.0  Portland - Auburn\n",
       "1     501.0           New York\n",
       "2     502.0         Binghamton\n",
       "3     503.0              Macon\n",
       "4     504.0       Philadelphia"
      ]
     },
     "execution_count": 37,
     "metadata": {},
     "output_type": "execute_result"
    }
   ],
   "source": [
    "county_dma_crosswalk = pd.read_csv(\"dma_codes_ooyala.csv\")\n",
    "county_dma_crosswalk.head()"
   ]
  },
  {
   "cell_type": "markdown",
   "metadata": {},
   "source": [
    "# Set-Up"
   ]
  },
  {
   "cell_type": "markdown",
   "metadata": {
    "heading_collapsed": true
   },
   "source": [
    "## API"
   ]
  },
  {
   "cell_type": "markdown",
   "metadata": {
    "hidden": true
   },
   "source": [
    "Note: This is adapted from the Google Trends getting started guide"
   ]
  },
  {
   "cell_type": "code",
   "execution_count": 4,
   "metadata": {
    "ExecuteTime": {
     "end_time": "2021-04-11T17:25:37.471228Z",
     "start_time": "2021-04-11T17:25:37.468537Z"
    },
    "hidden": true
   },
   "outputs": [],
   "source": [
    "api_key = \"HIDDEN\"\n",
    "server = 'https://trends.googleapis.com'\n",
    "api_version = 'v1beta'\n",
    "discovery_url_suffix = '/$discovery/rest?version=' + api_version\n",
    "discovery_url = server + discovery_url_suffix\n",
    "\n",
    "max_queries = 30 #API only allows 30 queries in one request"
   ]
  },
  {
   "cell_type": "markdown",
   "metadata": {
    "heading_collapsed": true
   },
   "source": [
    "## PyTrends"
   ]
  },
  {
   "cell_type": "code",
   "execution_count": 5,
   "metadata": {
    "ExecuteTime": {
     "end_time": "2021-03-25T13:41:08.693160Z",
     "start_time": "2021-03-25T13:41:08.237410Z"
    },
    "hidden": true
   },
   "outputs": [],
   "source": [
    "pytrends = TrendReq(hl = 'en-US',\n",
    "                    tz = 300)\n",
    "\n",
    "max_pytrends = 5"
   ]
  },
  {
   "cell_type": "markdown",
   "metadata": {},
   "source": [
    "# Functions"
   ]
  },
  {
   "cell_type": "markdown",
   "metadata": {
    "heading_collapsed": true
   },
   "source": [
    "## Related Queries"
   ]
  },
  {
   "cell_type": "code",
   "execution_count": 62,
   "metadata": {
    "ExecuteTime": {
     "end_time": "2021-03-25T14:41:52.776842Z",
     "start_time": "2021-03-25T14:41:52.771871Z"
    },
    "hidden": true
   },
   "outputs": [],
   "source": [
    "def relatedQueries(keywords_list, start_date, end_date):\n",
    "    \"\"\"\n",
    "    Identify related search terms that could be valuable (single snowball sample)\n",
    "    Arguments: \n",
    "        param keywords (list of str): List of keywords of interest\n",
    "        param start_date (str): Start date for data collection (in form YYYY-MM-DD)\n",
    "        param end_date (str): End date for data collection (in form YYYY-MM-DD)\n",
    "        \n",
    "    Returns:\n",
    "        List of additional keywords to search on\n",
    "    \"\"\"\n",
    "    dat = {}\n",
    "    batch_intervals = range(0, len(keywords_list), max_pytrends) #Can only take 5 at a time\n",
    "    \n",
    "    for batch_start in batch_intervals:\n",
    "        batch_end = min(batch_start + max_pytrends, len(keywords_list))\n",
    "        query_batch = keywords_list[batch_start:batch_end]\n",
    "\n",
    "        pytrends.build_payload(kw_list = query_batch,\n",
    "                               timeframe = f'{start_date} {end_date}',\n",
    "                               geo = 'US')\n",
    "        \n",
    "        dat.update(pytrends.related_queries())\n",
    "    return dat"
   ]
  },
  {
   "cell_type": "markdown",
   "metadata": {
    "heading_collapsed": true
   },
   "source": [
    "## Convert Related Queries to Dataframe"
   ]
  },
  {
   "cell_type": "code",
   "execution_count": 63,
   "metadata": {
    "ExecuteTime": {
     "end_time": "2021-03-25T14:41:53.825261Z",
     "start_time": "2021-03-25T14:41:53.821490Z"
    },
    "hidden": true
   },
   "outputs": [],
   "source": [
    "def queryToDataframeHelper(query_dataframe, key, top_rising = \"top\"):\n",
    "    \"\"\"\n",
    "    Helper functio for queryToDataframe that generates a dataframe from the top or rising results from query_dictionary\n",
    "    \n",
    "    Arguments:\n",
    "        param query_dataframe (Pandas DataFrame): The top 24 top-or-rising related queries to the initial search term\n",
    "        param key (str): The initial query\n",
    "        param top_rising (str): Whether the query is from the \"top\" list or \"rising\" list. Choose from top (default) or rising\n",
    "        \n",
    "    Returns:\n",
    "        A formatted dataframe for the queryToDataFrame function \n",
    "    \"\"\"\n",
    "    query_dataframe[\"top_rising\"] = top_rising\n",
    "    query_dataframe[\"initial_query\"] = key\n",
    "    query_dataframe = query_dataframe.rename(columns={'query': 'new_query'})\n",
    "        \n",
    "    return query_dataframe"
   ]
  },
  {
   "cell_type": "code",
   "execution_count": 50,
   "metadata": {
    "ExecuteTime": {
     "end_time": "2021-03-25T14:07:15.342028Z",
     "start_time": "2021-03-25T14:07:15.335486Z"
    },
    "hidden": true
   },
   "outputs": [],
   "source": [
    "def queryToDataframe(query_dictionary):\n",
    "    \"\"\"\n",
    "    Turn query dictionary into a dataframe\n",
    "    Arguments:\n",
    "        param dat (dict): A dictionary of related queries as returned by relatedQueries\n",
    "\n",
    "    Returns:\n",
    "        A formatted database of all queries\n",
    "        \n",
    "    Raises:\n",
    "        TypeError if no top or rising queries\n",
    "    \"\"\"\n",
    "    column_names = [\"new_query\", \"top_rising\", \"value\", \"initial_query\"]\n",
    "    dat = pd.DataFrame(columns = column_names)\n",
    "    \n",
    "    for key in query_dictionary:\n",
    "        try:\n",
    "            queryToDataframeHelper(query_dictionary[key][\"top\"], key, \"top\")\n",
    "        except TypeError:\n",
    "            print(f\"No top related queries for {key}.\")\n",
    "        else:\n",
    "             top_queries = queryToDataframeHelper(query_dictionary[key][\"top\"], key, \"top\")\n",
    "                \n",
    "        try:\n",
    "            queryToDataframeHelper(query_dictionary[key][\"rising\"], key, \"rising\")\n",
    "        except TypeError:\n",
    "            print(f\"No rising related queries for {key}.\")\n",
    "        else:\n",
    "             rising_queries = queryToDataframeHelper(query_dictionary[key][\"rising\"], key, \"rising\")\n",
    "        \n",
    "        if top_queries is not None:\n",
    "            dat = dat.append([top_queries], ignore_index = True)\n",
    "            \n",
    "        if related_queries is not None:\n",
    "            dat = dat.append([top_queries], ignore_index = True)\n",
    "            \n",
    "    return dat"
   ]
  },
  {
   "cell_type": "markdown",
   "metadata": {
    "heading_collapsed": true
   },
   "source": [
    "## Google API "
   ]
  },
  {
   "cell_type": "markdown",
   "metadata": {
    "hidden": true
   },
   "source": [
    "Note: This is adapted from the Google Trends getting started guide"
   ]
  },
  {
   "cell_type": "code",
   "execution_count": 6,
   "metadata": {
    "ExecuteTime": {
     "end_time": "2021-04-11T17:28:42.181271Z",
     "start_time": "2021-04-11T17:28:42.169453Z"
    },
    "hidden": true
   },
   "outputs": [],
   "source": [
    "def getQueryVolumes(queries, start_date, end_date, geo='US', geo_level = 'county', frequency = 'week'):\n",
    "    \"\"\"\n",
    "    Extract query volumes from Trends API\n",
    "    Arguments:\n",
    "        param queries (list of str): A list of all queries to use\n",
    "        param start_date (str): Start date of timelines (in form YYYY-MM-DD)\n",
    "        param end_date (str): End date of timelines (in form YYYY-MM-DD)\n",
    "        param geo (str): The string representation of the geography of interest. This can be a country (US, default), region (US-NY) or DMA (501)\n",
    "        param geo_level (str): The granularity of geography. Choose from country (default), region, or dma\n",
    "        param frequency (str): The temporal granularity. Choose from day, week (default), month, year\n",
    "\n",
    "    Returns:\n",
    "        List of lists (one row per date)\n",
    "\n",
    "    Raises:\n",
    "        ValueError if:\n",
    "            - api key not defined\n",
    "            - geo_level is undefined\n",
    "\"\"\"\n",
    "    if not api_key:\n",
    "        raise ValueError(\"api_key not set.\")\n",
    "    \n",
    "    service = build('trends', \n",
    "                    api_version, \n",
    "                    developerKey = api_key,\n",
    "                    discoveryServiceUrl = discovery_url,\n",
    "                    static_discovery=False)\n",
    "    \n",
    "    dat = {}\n",
    "    \n",
    "    # Accounting for max batch range of 30\n",
    "    batch_intervals = range(0, len(queries), max_queries) \n",
    "    \n",
    "    for batch_start in batch_intervals:\n",
    "        batch_end = min(batch_start + max_queries, len(queries))\n",
    "        query_batch = queries[batch_start:batch_end]\n",
    "        \n",
    "        # Make API query:\n",
    "        if geo_level == \"country\":\n",
    "            req = service.getTimelinesForHealth(terms = query_batch,\n",
    "                                                time_startDate = start_date,\n",
    "                                                time_endDate = end_date,\n",
    "                                                timelineResolution = frequency,\n",
    "                                                geoRestriction_country = geo)\n",
    "        elif geo_level == \"dma\":\n",
    "              req = service.getTimelinesForHealth(terms=query_batch,\n",
    "                                                  time_startDate=start_date,\n",
    "                                                  time_endDate=end_date,\n",
    "                                                  timelineResolution=frequency,\n",
    "                                                  geoRestriction_dma=geo)\n",
    "        elif geo_level == 'region':\n",
    "      # Region format is ISO-3166-2 (4-letters): en.wikipedia.org/wiki/ISO_3166-2:US)\n",
    "              req = service.getTimelinesForHealth(terms=query_batch,\n",
    "                                                  time_startDate=start_date,\n",
    "                                                  time_endDate=end_date,\n",
    "                                                  timelineResolution=frequency,\n",
    "                                                  geoRestriction_region=geo)\n",
    "        else:\n",
    "            raise ValueError(\"geo_type must be one of 'country', 'region', or 'dma'\")\n",
    "        \n",
    "        res = req.execute()\n",
    "        \n",
    "        time.sleep(1) #To avoid rate limit\n",
    "        \n",
    "        res_dict = {(line[u'term'], point[u'date']):\n",
    "                   point[u'value']\n",
    "                   for line in res[u'lines']\n",
    "                   for point in line[u'points']}\n",
    "        \n",
    "        dat.update(res_dict)\n",
    "        \n",
    "        res = [['date'] + queries]\n",
    "        for date in sorted(list(set([x[1] for x in dat]))):\n",
    "            vals = [dat.get((term, date), 0) for term in queries]\n",
    "            res.append([date] + vals)\n",
    "        \n",
    "        return res\n",
    "   "
   ]
  },
  {
   "cell_type": "markdown",
   "metadata": {},
   "source": [
    "# Data Collection"
   ]
  },
  {
   "cell_type": "markdown",
   "metadata": {
    "heading_collapsed": true
   },
   "source": [
    "## Snowball sampling for search queries"
   ]
  },
  {
   "cell_type": "code",
   "execution_count": 64,
   "metadata": {
    "ExecuteTime": {
     "end_time": "2021-03-25T14:42:14.387651Z",
     "start_time": "2021-03-25T14:41:57.441770Z"
    },
    "hidden": true,
    "scrolled": true
   },
   "outputs": [
    {
     "name": "stdout",
     "output_type": "stream",
     "text": [
      "No top related queries for covid vaccine autism.\n",
      "No rising related queries for covid vaccine autism.\n",
      "No top related queries for whats in the covid vaccine.\n",
      "No rising related queries for whats in the covid vaccine.\n",
      "No top related queries for anti-vax  and derivatives.\n",
      "No rising related queries for anti-vax  and derivatives.\n",
      "No top related queries for The Vaccine Book  Making the Right Decision for Your Child.\n",
      "No rising related queries for The Vaccine Book  Making the Right Decision for Your Child.\n",
      "No top related queries for allergic reaction to vaccine/vaccine allergic reaction.\n",
      "No rising related queries for allergic reaction to vaccine/vaccine allergic reaction.\n",
      "No top related queries for vaccine 5g.\n",
      "No rising related queries for vaccine 5g.\n",
      "No top related queries for vaccine and autoimmune conditions.\n",
      "No rising related queries for vaccine and autoimmune conditions.\n"
     ]
    }
   ],
   "source": [
    "query_list = list(search_terms['Suggested Query'])\n",
    "query_list = [x.replace(\"\\\"\", \"\") for x in query_list]\n",
    "related_queries = relatedQueries(query_list, '2020-01-01', '2021-03-24')\n",
    "related_queries_df = queryToDataframe(related_queries)"
   ]
  },
  {
   "cell_type": "markdown",
   "metadata": {},
   "source": [
    "## Full GST data from list"
   ]
  },
  {
   "cell_type": "markdown",
   "metadata": {
    "heading_collapsed": true
   },
   "source": [
    "### Format list of queries"
   ]
  },
  {
   "cell_type": "code",
   "execution_count": 45,
   "metadata": {
    "ExecuteTime": {
     "end_time": "2021-04-11T18:02:06.040886Z",
     "start_time": "2021-04-11T18:02:06.032592Z"
    },
    "hidden": true
   },
   "outputs": [
    {
     "data": {
      "text/plain": [
       "['aborted fetus vaccine',\n",
       " 'vaccine priority',\n",
       " 'covid vaccine ingredients',\n",
       " 'vaccine side effects',\n",
       " 'polio vaccine covid',\n",
       " 'vaccine bill gates',\n",
       " 'bells palsy covid vaccine',\n",
       " 'vaccine long term effects',\n",
       " 'covid vaccine mandatory',\n",
       " 'covid vaccine death',\n",
       " 'covid vaccine change dna',\n",
       " 'pfizer moderna astrazeneca',\n",
       " 'vaccine infertility',\n",
       " 'vaccine microchip',\n",
       " 'where to get covid vaccine',\n",
       " 'covid vaccine safe',\n",
       " 'vaccine exemption',\n",
       " 'how safe is covid vaccine',\n",
       " 'what ingredients are in the covid vaccine',\n",
       " 'does the covid vaccine change your dna',\n",
       " 'louisiana covid vaccine priority',\n",
       " 'vaccine exemption form',\n",
       " 'pfizer side effects',\n",
       " 'where to get the covid vaccine near me',\n",
       " 'side effects moderna vaccine',\n",
       " 'what is in the covid vaccine ingredients',\n",
       " 'where to go to get covid vaccine',\n",
       " 'is the vaccine safe',\n",
       " 'cvs',\n",
       " 'is covid vaccine safe',\n",
       " 'new york mandatory covid vaccine',\n",
       " 'moderna vaccine',\n",
       " 'hank aaron cause of death',\n",
       " 'covid 19 vaccine infertility',\n",
       " 'does the covid vaccine change your dna cdc',\n",
       " 'covid vaccine and bells palsy',\n",
       " 'where to get a covid vaccine near me',\n",
       " 'vaccine side effects long term',\n",
       " 'novavax stock',\n",
       " 'does covid vaccine change dna',\n",
       " 'bill gates vaccine india',\n",
       " 'vaccine priority list',\n",
       " 'is the covid 19 vaccine safe',\n",
       " 'moderna covid vaccine side effects',\n",
       " 'pfizer stock price',\n",
       " 'where to get vaccine near me',\n",
       " 'covid vaccine pfizer side effects',\n",
       " 'will the covid vaccine be mandatory',\n",
       " 'pfizer vaccine ingredients',\n",
       " 'how safe is the covid vaccine',\n",
       " 'mrna vaccine long term side effects',\n",
       " 'covid vaccine microchip',\n",
       " 'covid vaccine priority groups',\n",
       " 'ingredients in the covid vaccine',\n",
       " 'covid vaccine death fda',\n",
       " 'cdc covid vaccine',\n",
       " 'can the covid vaccine cause infertility',\n",
       " 'covid vaccine priority',\n",
       " 'what are the ingredients in the covid vaccine',\n",
       " 'bill gates corona vaccine',\n",
       " 'death from covid vaccine',\n",
       " 'where can i get covid vaccine',\n",
       " 'johnson and johnson vaccine',\n",
       " 'ted talk bill gates vaccine',\n",
       " 'ingredients in covid 19 vaccine',\n",
       " 'hpv vaccine infertility',\n",
       " 'covid vaccine cause infertility',\n",
       " 'covid 19',\n",
       " 'covid 19 vaccine ingredients',\n",
       " 'does covid vaccine cause infertility',\n",
       " 'covid vaccine long term effects',\n",
       " 'pfizer covid vaccine ingredients',\n",
       " 'cdc vaccine priority',\n",
       " 'shingles',\n",
       " 'bill gates covid-19 vaccine',\n",
       " 'covid-19 vaccine',\n",
       " 'is covid vaccine mandatory for healthcare workers',\n",
       " 'covid 19 vaccine',\n",
       " 'moderna',\n",
       " 'covid vaccine aborted fetus',\n",
       " 'covid vaccine infertility',\n",
       " 'covid 19 vaccine long term side effects',\n",
       " 'moderna stock',\n",
       " 'how long after covid vaccine are you safe',\n",
       " 'covid vaccine death rate cdc',\n",
       " 'vaccine side effects pfizer',\n",
       " 'what is the covid 19 vaccine ingredients',\n",
       " 'vaccine and infertility',\n",
       " 'mrna vaccine long term effects',\n",
       " 'is moderna vaccine safe',\n",
       " 'what is the ingredients in the covid vaccine',\n",
       " 'pfizer vaccine infertility',\n",
       " 'where to get johnson and johnson covid vaccine',\n",
       " 'how safe is the pfizer covid vaccine',\n",
       " 'covid 19 vaccine death',\n",
       " 'bill gates and vaccine',\n",
       " 'bill gates vaccine africa',\n",
       " 'covid vaccine priority list',\n",
       " 'covid 19 vaccine and infertility',\n",
       " 'bill gates and covid vaccine',\n",
       " 'walgreens covid vaccine',\n",
       " 'moderna stock price',\n",
       " 'ingredients in moderna covid vaccine',\n",
       " 'microchip in covid vaccine',\n",
       " 'side effects of covid 19 vaccine',\n",
       " 'astrazeneca stock',\n",
       " 'coronavirus vaccine bill gates',\n",
       " 'priority list for covid vaccine',\n",
       " 'where to get the covid vaccine',\n",
       " 'covid vaccine safe for pregnancy',\n",
       " 'covid vaccine causing death',\n",
       " 'infertility with covid vaccine',\n",
       " 'polio vaccine for covid 19',\n",
       " 'where to get covid-19 vaccine',\n",
       " 'bill gates covid-19',\n",
       " 'covid vaccine side effects',\n",
       " 'bill gates polio vaccine india',\n",
       " 'id2020',\n",
       " 'covid vaccine',\n",
       " 'hank aaron',\n",
       " 'long term effects of covid',\n",
       " 'where to get covid 19 vaccine near me',\n",
       " 'death by covid vaccine',\n",
       " 'can covid vaccine cause infertility',\n",
       " 'long term side effects of covid 19 vaccine',\n",
       " 'bill gates vaccine in africa',\n",
       " 'is covid vaccine safe for pregnancy',\n",
       " 'covid vaccine causes infertility',\n",
       " 'is the covid vaccine safe for pregnant women',\n",
       " 'long term side effects of covid vaccine',\n",
       " 'long term effects of mrna vaccine',\n",
       " 'does the vaccine cause infertility',\n",
       " 'coronavirus vaccine',\n",
       " 'covid vaccine update',\n",
       " 'california vaccine priority list',\n",
       " 'is the covid vaccine mandatory for healthcare workers',\n",
       " 'bill gates covid 19 vaccine',\n",
       " 'does covid vaccine change dna mayo clinic',\n",
       " 'vaccine exemption texas',\n",
       " 'where can i get the covid vaccine',\n",
       " 'covid 19 vaccine ingredients pfizer',\n",
       " 'long term effects of covid vaccine',\n",
       " 'is covid vaccine mandatory',\n",
       " 'will covid vaccine be mandatory',\n",
       " 'tesla stock',\n",
       " 'covid vaccine causing infertility',\n",
       " 'covid vaccine death cdc',\n",
       " 'vaccine covid',\n",
       " 'covid 19 vaccine near me',\n",
       " 'will the covid vaccine be safe',\n",
       " 'second vaccine side effects',\n",
       " 'where to get johnson and johnson vaccine',\n",
       " 'covid 19 vaccine mandatory',\n",
       " 'covid vaccine death rate',\n",
       " 'bill gates covid vaccine',\n",
       " 'is covid vaccine safe for pregnant women',\n",
       " 'where to get vaccine covid near me',\n",
       " 'is the covid vaccine safe long term',\n",
       " 'side effects covid vaccine',\n",
       " 'death due to covid vaccine',\n",
       " 'coronavirus death toll',\n",
       " 'will the covid 19 vaccine be mandatory',\n",
       " 'pfizer',\n",
       " 'bill gates vaccine conspiracy',\n",
       " 'florida vaccine priority',\n",
       " 'microchip in vaccine',\n",
       " 'where to get covid vaccine in pa',\n",
       " 'is it safe to get the covid vaccine',\n",
       " 'is the vaccine for covid 19 safe',\n",
       " 'ingredients in pfizer covid vaccine',\n",
       " 'death from covid vaccine cdc',\n",
       " 'bill gates foundation vaccine',\n",
       " 'bill gates virus vaccine',\n",
       " 'long term covid vaccine side effects',\n",
       " 'bill gates polio vaccine',\n",
       " 'georgia vaccine priority',\n",
       " 'side effects of covid vaccine',\n",
       " 'where to get my covid vaccine',\n",
       " 'does covid vaccine change your dna',\n",
       " 'covid 19 vaccine side effects',\n",
       " 'bill gates microchip vaccine',\n",
       " 'covid 19 side effects',\n",
       " 'moderna side effects',\n",
       " 'polio vaccine history',\n",
       " 'pfizer vaccine',\n",
       " 'ingredients of covid vaccine',\n",
       " 'is it mandatory to get covid vaccine',\n",
       " 'covid vaccine near me',\n",
       " 'covid vaccine deaths',\n",
       " 'pfizer covid vaccine death',\n",
       " 'is covid 19 vaccine safe',\n",
       " 'microchip vaccine coronavirus',\n",
       " 'moderna covid vaccine',\n",
       " 'death after covid vaccine',\n",
       " 'infertility and covid vaccine',\n",
       " 'covid vaccine ingredients list',\n",
       " 'cvs covid vaccine',\n",
       " 'moderna covid vaccine ingredients',\n",
       " 'bill gates on covid vaccine',\n",
       " 'pfizer covid vaccine',\n",
       " 'california covid vaccine priority',\n",
       " 'side effects of moderna vaccine',\n",
       " 'ingredients in covid vaccine',\n",
       " 'what is in the covid vaccine',\n",
       " 'is the covid vaccine mandatory',\n",
       " 'moderna vaccine ingredients',\n",
       " 'california vaccine priority',\n",
       " 'is the covid vaccine safe',\n",
       " 'eeoc mandatory covid vaccine',\n",
       " 'side effects of vaccine',\n",
       " 'does the covid vaccine cause infertility',\n",
       " 'astrazeneca vaccine',\n",
       " 'where can i get a covid vaccine',\n",
       " 'where to get covid vaccine in florida',\n",
       " 'covid side effects',\n",
       " 'will covid 19 vaccine be mandatory',\n",
       " 'pfizer stock',\n",
       " 'bill gates vaccine chip',\n",
       " 'walgreens',\n",
       " 'possible long term effects of covid vaccine',\n",
       " 'gardasil vaccine',\n",
       " 'is johnson and johnson vaccine safe']"
      ]
     },
     "execution_count": 45,
     "metadata": {},
     "output_type": "execute_result"
    }
   ],
   "source": [
    "final_queries = list(set(related_queries_df.initial_query)) + list(set(related_queries_df.new_query))\n",
    "print(final_queries[0:10])\n",
    "print(len(final_queries))"
   ]
  },
  {
   "cell_type": "markdown",
   "metadata": {
    "heading_collapsed": true
   },
   "source": [
    "### Format list of DMA's"
   ]
  },
  {
   "cell_type": "code",
   "execution_count": 52,
   "metadata": {
    "ExecuteTime": {
     "end_time": "2021-04-11T18:07:38.436903Z",
     "start_time": "2021-04-11T18:07:38.432760Z"
    },
    "hidden": true
   },
   "outputs": [
    {
     "name": "stdout",
     "output_type": "stream",
     "text": [
      "['512', '513', '514', '515', '516', '517', '518', '519', '520', '521']\n",
      "210\n"
     ]
    }
   ],
   "source": [
    "dma_index = list(set(county_dma_crosswalk[\"DMA Code\"]))\n",
    "dma_index = [str(x).split(\".0\")[0] for x in dma_index]\n",
    "print(dma_index[0:10])\n",
    "print(len(dma_index))"
   ]
  },
  {
   "cell_type": "markdown",
   "metadata": {},
   "source": [
    "## Pulling DMA-level list"
   ]
  },
  {
   "cell_type": "code",
   "execution_count": 110,
   "metadata": {
    "ExecuteTime": {
     "end_time": "2021-04-11T20:12:13.662665Z",
     "start_time": "2021-04-11T20:06:39.945697Z"
    },
    "scrolled": true
   },
   "outputs": [],
   "source": [
    "dataframe_exists = False\n",
    "for dma in dma_index:\n",
    "#for dma in dma_index[122:]: #Had to restart because didn't realize nan was in the data\n",
    "    #print(dma)\n",
    "    if dma != \"nan\":\n",
    "        queries = getQueryVolumes(final_queries,\n",
    "                                  start_date = \"2020-01-01\",\n",
    "                                  end_date = \"2021-04-10\",\n",
    "                                  geo = dma,\n",
    "                                  geo_level = \"dma\",\n",
    "                                  frequency = \"week\")\n",
    "        if not dataframe_exists:\n",
    "            queries_gst_dma = pd.DataFrame(queries[1:], columns = queries[0])  \n",
    "            queries_gst_dma[\"dma\"] = dma\n",
    "            dataframe_exists = True\n",
    "        else:\n",
    "            queries_gst_dma_holder = pd.DataFrame(queries[1:], columns = queries[0])  \n",
    "            queries_gst_dma_holder[\"dma\"] = dma\n",
    "            queries_gst_dma = pd.concat([queries_gst_dma, queries_gst_dma_holder])"
   ]
  },
  {
   "cell_type": "markdown",
   "metadata": {
    "heading_collapsed": true
   },
   "source": [
    "## Pulling US-specific list"
   ]
  },
  {
   "cell_type": "code",
   "execution_count": 107,
   "metadata": {
    "ExecuteTime": {
     "end_time": "2021-04-11T19:37:09.514573Z",
     "start_time": "2021-04-11T19:37:08.054513Z"
    },
    "hidden": true
   },
   "outputs": [],
   "source": [
    "queries = getQueryVolumes(final_queries,\n",
    "                          start_date = \"2020-01-01\",\n",
    "                          end_date = \"2021-04-10\",\n",
    "                          geo = \"US\",\n",
    "                          geo_level = \"country\",\n",
    "                          frequency = \"week\")\n",
    "\n",
    "queries_gst_us = pd.DataFrame(queries[1:], columns = queries[0])  \n",
    "queries_gst_us[\"dma\"] = \"usa\""
   ]
  },
  {
   "cell_type": "markdown",
   "metadata": {},
   "source": [
    "# Exports"
   ]
  },
  {
   "cell_type": "code",
   "execution_count": 66,
   "metadata": {
    "ExecuteTime": {
     "end_time": "2021-03-25T14:44:05.259001Z",
     "start_time": "2021-03-25T14:44:05.251408Z"
    }
   },
   "outputs": [],
   "source": [
    "#related_queries_df.to_csv('/Users/cpollack/Project-F-External-Misinformation-and-COVID-19/210324_top_rising_snowball_related_queries.csv')"
   ]
  },
  {
   "cell_type": "code",
   "execution_count": 111,
   "metadata": {
    "ExecuteTime": {
     "end_time": "2021-04-11T20:12:26.266244Z",
     "start_time": "2021-04-11T20:12:25.552091Z"
    }
   },
   "outputs": [],
   "source": [
    "queries_gst_dma.to_csv(\"210411_queries_raw_score.csv\")"
   ]
  },
  {
   "cell_type": "code",
   "execution_count": 109,
   "metadata": {
    "ExecuteTime": {
     "end_time": "2021-04-11T19:37:32.842119Z",
     "start_time": "2021-04-11T19:37:32.829370Z"
    }
   },
   "outputs": [],
   "source": [
    "#queries_gst_us.to_csv(\"210411_queries_raw_score_us.csv\")"
   ]
  }
 ],
 "metadata": {
  "celltoolbar": "Initialization Cell",
  "kernelspec": {
   "display_name": "Python 3",
   "language": "python",
   "name": "python3"
  },
  "language_info": {
   "codemirror_mode": {
    "name": "ipython",
    "version": 3
   },
   "file_extension": ".py",
   "mimetype": "text/x-python",
   "name": "python",
   "nbconvert_exporter": "python",
   "pygments_lexer": "ipython3",
   "version": "3.7.4"
  },
  "toc": {
   "base_numbering": 1,
   "nav_menu": {},
   "number_sections": true,
   "sideBar": true,
   "skip_h1_title": false,
   "title_cell": "Table of Contents",
   "title_sidebar": "Contents",
   "toc_cell": false,
   "toc_position": {},
   "toc_section_display": true,
   "toc_window_display": false
  },
  "varInspector": {
   "cols": {
    "lenName": 16,
    "lenType": 16,
    "lenVar": 40
   },
   "kernels_config": {
    "python": {
     "delete_cmd_postfix": "",
     "delete_cmd_prefix": "del ",
     "library": "var_list.py",
     "varRefreshCmd": "print(var_dic_list())"
    },
    "r": {
     "delete_cmd_postfix": ") ",
     "delete_cmd_prefix": "rm(",
     "library": "var_list.r",
     "varRefreshCmd": "cat(var_dic_list()) "
    }
   },
   "types_to_exclude": [
    "module",
    "function",
    "builtin_function_or_method",
    "instance",
    "_Feature"
   ],
   "window_display": false
  }
 },
 "nbformat": 4,
 "nbformat_minor": 4
}
